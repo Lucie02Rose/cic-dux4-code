{
 "cells": [
  {
   "cell_type": "code",
   "execution_count": 1,
   "id": "e30f8c90-1d8b-437b-a48f-eaac761fbeb4",
   "metadata": {
    "tags": []
   },
   "outputs": [
    {
     "name": "stderr",
     "output_type": "stream",
     "text": [
      "Warning message in install.packages(c(\"gplots\", \"RColorBrewer\", \"ggplot2\", \"readr\", :\n",
      "“'lib = \"/software/isg/languages/R/4.2.2/exec/lib/R/library\"' is not writable”\n"
     ]
    },
    {
     "ename": "ERROR",
     "evalue": "Error in install.packages(c(\"gplots\", \"RColorBrewer\", \"ggplot2\", \"readr\", : unable to install packages\n",
     "output_type": "error",
     "traceback": [
      "Error in install.packages(c(\"gplots\", \"RColorBrewer\", \"ggplot2\", \"readr\", : unable to install packages\nTraceback:\n",
      "1. install.packages(c(\"gplots\", \"RColorBrewer\", \"ggplot2\", \"readr\", \n .     \"tidyverse\", \"XML\", \"restfulr\", \"Rsamtools\"))",
      "2. stop(\"unable to install packages\")"
     ]
    }
   ],
   "source": [
    "install.packages(c(\n",
    "  \"gplots\", \n",
    "  \"RColorBrewer\", \n",
    "  \"ggplot2\", \n",
    "  \"readr\", \n",
    "  \"tidyverse\", \n",
    "  \"XML\", \n",
    "  \"restfulr\", \n",
    "  \"Rsamtools\"\n",
    "))"
   ]
  },
  {
   "cell_type": "code",
   "execution_count": null,
   "id": "4ae90969-070b-48a5-99d3-d00d39d5050a",
   "metadata": {},
   "outputs": [],
   "source": [
    "# Install BiocManager if not already installed\n",
    "if (!requireNamespace(\"BiocManager\", quietly = TRUE))\n",
    "  install.packages(\"BiocManager\")\n",
    "\n",
    "# Install required Bioconductor packages\n",
    "BiocManager::install(c(\n",
    "  \"tximport\", \n",
    "  \"DESeq2\", \n",
    "  \"GenomicFeatures\", \n",
    "  \"fgsea\", \n",
    "  \"scran\", \n",
    "  \"KEGGREST\", \n",
    "  \"GenomicAlignments\", \n",
    "  \"rtracklayer\", \n",
    "  \"biomaRt\", \n",
    "  \"AnnotationDbi\"\n",
    "))\n"
   ]
  }
 ],
 "metadata": {
  "kernelspec": {
   "display_name": "R 4.2.2",
   "language": "R",
   "name": "ir422"
  },
  "language_info": {
   "codemirror_mode": "r",
   "file_extension": ".r",
   "mimetype": "text/x-r-source",
   "name": "R",
   "pygments_lexer": "r",
   "version": "4.2.2"
  }
 },
 "nbformat": 4,
 "nbformat_minor": 5
}
