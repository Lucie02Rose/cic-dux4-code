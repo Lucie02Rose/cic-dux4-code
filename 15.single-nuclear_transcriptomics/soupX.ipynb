{
 "cells": [
  {
   "cell_type": "code",
   "execution_count": 1,
   "id": "947193fb-d8b8-4083-8e62-3542e3d60f9c",
   "metadata": {
    "tags": []
   },
   "outputs": [
    {
     "name": "stderr",
     "output_type": "stream",
     "text": [
      "Warning message:\n",
      "“package ‘reticulate’ was built under R version 4.4.3”\n",
      "── \u001b[1mAttaching core tidyverse packages\u001b[22m ──────────────────────── tidyverse 2.0.0 ──\n",
      "\u001b[32m✔\u001b[39m \u001b[34mdplyr    \u001b[39m 1.1.4     \u001b[32m✔\u001b[39m \u001b[34mreadr    \u001b[39m 2.1.5\n",
      "\u001b[32m✔\u001b[39m \u001b[34mforcats  \u001b[39m 1.0.0     \u001b[32m✔\u001b[39m \u001b[34mstringr  \u001b[39m 1.5.1\n",
      "\u001b[32m✔\u001b[39m \u001b[34mggplot2  \u001b[39m 3.5.1     \u001b[32m✔\u001b[39m \u001b[34mtibble   \u001b[39m 3.2.1\n",
      "\u001b[32m✔\u001b[39m \u001b[34mlubridate\u001b[39m 1.9.4     \u001b[32m✔\u001b[39m \u001b[34mtidyr    \u001b[39m 1.3.1\n",
      "\u001b[32m✔\u001b[39m \u001b[34mpurrr    \u001b[39m 1.0.4     \n",
      "── \u001b[1mConflicts\u001b[22m ────────────────────────────────────────── tidyverse_conflicts() ──\n",
      "\u001b[31m✖\u001b[39m \u001b[34mdplyr\u001b[39m::\u001b[32mfilter()\u001b[39m masks \u001b[34mstats\u001b[39m::filter()\n",
      "\u001b[31m✖\u001b[39m \u001b[34mdplyr\u001b[39m::\u001b[32mlag()\u001b[39m    masks \u001b[34mstats\u001b[39m::lag()\n",
      "\u001b[36mℹ\u001b[39m Use the conflicted package (\u001b[3m\u001b[34m<http://conflicted.r-lib.org/>\u001b[39m\u001b[23m) to force all conflicts to become errors\n",
      "Loading required package: SeuratObject\n",
      "\n",
      "Warning message:\n",
      "“package ‘SeuratObject’ was built under R version 4.4.3”\n",
      "Loading required package: sp\n",
      "\n",
      "‘SeuratObject’ was built with package ‘Matrix’ 1.7.2 but the current\n",
      "version is 1.7.3; it is recomended that you reinstall ‘SeuratObject’ as\n",
      "the ABI for ‘Matrix’ may have changed\n",
      "\n",
      "\n",
      "Attaching package: ‘SeuratObject’\n",
      "\n",
      "\n",
      "The following objects are masked from ‘package:base’:\n",
      "\n",
      "    intersect, t\n",
      "\n",
      "\n"
     ]
    }
   ],
   "source": [
    "library(reticulate)\n",
    "library(tidyverse)\n",
    "library(sceasy)\n",
    "library(Seurat)\n",
    "library(SoupX)"
   ]
  },
  {
   "cell_type": "code",
   "execution_count": null,
   "id": "585e3919-5d07-49ec-aff5-b674083cdded",
   "metadata": {
    "tags": []
   },
   "outputs": [],
   "source": [
    "use_condaenv(\"/software/cellgen/team274/lr26/miniforge3/envs/my-r\", required = TRUE)\n",
    "loompy <- reticulate::import('loompy')\n",
    "anndata <- reticulate::import('anndata')"
   ]
  },
  {
   "cell_type": "code",
   "execution_count": null,
   "id": "3ceff1b3-49cb-4f2b-83ce-84163d3ebe97",
   "metadata": {
    "tags": []
   },
   "outputs": [],
   "source": [
    "samples <- c('CG_SB_NB13960948', 'CG_SB_NB13960949', 'CG_SB_NB13960950', 'CG_SB_NB13960951',\n",
    "             'CG_SB_NB14449539', 'CG_SB_NB14449540', 'CG_SB_NB14449541')"
   ]
  },
  {
   "cell_type": "code",
   "execution_count": null,
   "id": "4fb9b571-5943-49d2-85a7-d22e81e8fe4e",
   "metadata": {
    "tags": []
   },
   "outputs": [],
   "source": [
    "# Define the function to create the soup profile and adjust counts\n",
    "make_soup <- function(sobj, sample_id) {\n",
    "  # Define paths for raw and filtered feature matrices\n",
    "  path_filt <- paste0(\"/lustre/scratch126/casm/team274sb/lr26/scRNA/\", sample_id, \"/filtered_feature_bc_matrix/\")\n",
    "  path_raw <- paste0(\"/lustre/scratch126/casm/team274sb/lr26/scRNA/\", sample_id, \"/raw_feature_bc_matrix/\")\n",
    "  \n",
    "  # Read filtered and raw data using Seurat's Read10X\n",
    "  filt_counts <- Read10X(data.dir = path_filt)  # Filtered feature matrix\n",
    "  raw_counts <- Read10X(data.dir = path_raw)    # Raw feature matrix\n",
    "\n",
    "  # Check if the counts matrices were loaded properly\n",
    "  if (is.null(filt_counts) | is.null(raw_counts)) {\n",
    "    stop(\"Error loading the raw or filtered matrices. Check the file paths.\")\n",
    "  }\n",
    "  \n",
    "  # Print example gene names to check format differences\n",
    " \n",
    "  # Create a SoupChannel object with the raw and filtered counts\n",
    "  sc <- SoupChannel(raw_counts, filt_counts, calcSoupProfile = FALSE)\n",
    "  \n",
    "  # Estimate contamination profile (soup profile)\n",
    "  sc <- estimateSoup(sc)  \n",
    "\n",
    "  # Adjust counts based on the estimated contamination profile\n",
    "  ambient_contamination_values <- sc@ambientContamination\n",
    "\n",
    "  sobj[[\"ambient_contamination\"]] <- ambient_contamination_values\n",
    "\n",
    "  return(sobj)\n",
    "}\n"
   ]
  },
  {
   "cell_type": "code",
   "execution_count": 2,
   "id": "b668c966-b203-4a58-8fea-3730b1c4c345",
   "metadata": {
    "tags": []
   },
   "outputs": [
    {
     "data": {
      "text/plain": [
       "NULL"
      ]
     },
     "metadata": {},
     "output_type": "display_data"
    }
   ],
   "source": [
    "# Set your specific file paths\n",
    "path_raw <- \"/lustre/scratch126/casm/team274sb/lr26/scRNA/CG_SB_NB13960950/raw_feature_bc_matrix/\"\n",
    "path_filt <- \"/lustre/scratch126/casm/team274sb/lr26/scRNA/CG_SB_NB13960950/filtered_feature_bc_matrix/\"\n",
    "\n",
    "# Read in the raw and filtered matrices using Seurat's Read10X function\n",
    "tod <- Seurat::Read10X(file.path(path_raw))   # raw data\n",
    "toc <- Seurat::Read10X(file.path(path_filt))  # filtered data\n",
    "\n",
    "# Create the SoupChannel object using the loaded matrices\n",
    "soc = SoupChannel(tod, toc, calcSoupProfile = FALSE)\n",
    "soc = estimateSoup(soc)\n",
    "# Assume 'sc' is your SoupChannel object and 'seurat_obj' is your Seurat object\n",
    "\n",
    "\n",
    "\n",
    "\n",
    "#print(dim(tod))  # Should print something like (genes, cells)\n",
    "#print(dim(toc))  # Should print something like (genes, cells)\n",
    "#identical(rownames(tod), rownames(toc))  # Should return TRUE\n",
    "# Check if there are any all-zero rows (genes) in `tod` or `toc`\n",
    "# Check for empty columns (cells) in `tod` and `toc`\n",
    "\n"
   ]
  },
  {
   "cell_type": "code",
   "execution_count": 3,
   "id": "a3c4664e-66f2-42fc-ac6e-57c1bd42b1b4",
   "metadata": {
    "tags": []
   },
   "outputs": [
    {
     "name": "stderr",
     "output_type": "stream",
     "text": [
      "Channel with 33694 genes and 1566 cells\n",
      "\n"
     ]
    }
   ],
   "source": [
    "soc"
   ]
  },
  {
   "cell_type": "code",
   "execution_count": null,
   "id": "cadec3f7-bb73-4172-9535-2f129f512848",
   "metadata": {
    "tags": []
   },
   "outputs": [],
   "source": [
    "mad_outlier <- function(sobj, metric, nmads){\n",
    "  M <- sobj@meta.data[[metric]]\n",
    "  median_M <- median(M, na.rm = TRUE)\n",
    "  mad_M <- mad(M, na.rm = TRUE)\n",
    "  outlier <- (M < (median_M - nmads * mad_M)) | (M > (median_M + nmads * mad_M))\n",
    "  return(outlier)\n",
    "}\n",
    "\n",
    "pp <- function(sample_id){\n",
    "  # Dynamically construct the path to the filtered feature matrix\n",
    "  path <- paste0(\"/lustre/scratch126/casm/team274sb/lr26/scRNA/\", sample_id, \"/filtered_feature_bc_matrix/\")\n",
    "  \n",
    "  # Read the filtered data using Read10X\n",
    "  sobj <- Read10X(data.dir = path)\n",
    "  \n",
    "  # Ensure that sobj is a matrix (or sparse matrix) and not a list or any other structure\n",
    "  if (is.list(sobj)) {\n",
    "    sobj <- sobj[[1]]  # If a list is returned, extract the count matrix\n",
    "  }\n",
    "  \n",
    "  # Check the dimensions of sobj to ensure it's a valid count matrix\n",
    "  if (is.null(sobj) || !inherits(sobj, \"matrix\") && !inherits(sobj, \"dgCMatrix\")) {\n",
    "    stop(\"The data loaded is not in the expected matrix format.\")\n",
    "  }\n",
    "  \n",
    "  # Create Seurat object from the count matrix\n",
    "  sobj <- CreateSeuratObject(counts = sobj, min.cells = 0, min.features = 0)\n",
    "  \n",
    "  # Add sample_id to the metadata for tracking\n",
    "  sobj$sample_id <- sample_id\n",
    "  \n",
    "  # Add QC metrics\n",
    "  sobj$log1p_total_counts <- log1p(sobj@meta.data$nCount_RNA)\n",
    "  sobj$log1p_n_genes_by_counts <- log1p(sobj@meta.data$nFeature_RNA)\n",
    "  sobj[[\"percent.mt\"]] <- PercentageFeatureSet(sobj, pattern = \"^MT-\")\n",
    "  \n",
    "  return(sobj)\n",
    "}\n",
    "\n",
    "# Apply the pp function to each sample and store the Seurat objects in a list\n",
    "data_list <- lapply(samples, pp)\n",
    "\n",
    "\n",
    "get_soup_groups <- function(sobj){\n",
    "  # Perform Seurat analysis steps\n",
    "  sobj <- NormalizeData(sobj, verbose = FALSE)\n",
    "  sobj <- FindVariableFeatures(object = sobj, nfeatures = 2000, verbose = FALSE, selection.method = 'vst')\n",
    "  sobj <- ScaleData(sobj, verbose = FALSE)\n",
    "  sobj <- RunPCA(sobj, npcs = 20, verbose = FALSE)\n",
    "  sobj <- FindNeighbors(sobj, dims = 1:20, verbose = FALSE)\n",
    "  sobj <- FindClusters(sobj, resolution = 0.5, verbose = FALSE)\n",
    "  \n",
    "  # Retrieve the 'seurat_clusters' and convert it to numeric (starting from 1)\n",
    "  clusters <- as.factor(sobj@meta.data[['seurat_clusters']])\n",
    "  \n",
    "  \n",
    "  return(clusters)\n",
    "}\n",
    "\n",
    "add_soup_groups <- function(sobj){\n",
    "  # Add the soup groups to the Seurat object\n",
    "  sobj$soup_group <- get_soup_groups(sobj)\n",
    "  return(sobj)\n",
    "}\n",
    "\n",
    "# Apply the add_soup_groups function to each Seurat object in data_list\n",
    "data_list <- sapply(data_list, add_soup_groups)"
   ]
  },
  {
   "cell_type": "code",
   "execution_count": null,
   "id": "467d8b09-7793-4913-ba0f-239fed926d83",
   "metadata": {
    "tags": []
   },
   "outputs": [],
   "source": [
    "data_list[2]$CG_SB_NB13960949[[]]"
   ]
  },
  {
   "cell_type": "code",
   "execution_count": null,
   "id": "d82fef2c-ac97-473e-b663-ba3e8851ac33",
   "metadata": {
    "tags": []
   },
   "outputs": [],
   "source": [
    "make_soup <- function(sobj, sample_id) {\n",
    "  # Dynamically create the path for each sample's raw and filtered data\n",
    "  path_filt <- paste0(\"/lustre/scratch126/casm/team274sb/lr26/scRNA/\", sample_id, \"/filtered_feature_bc_matrix/\")\n",
    "  path_raw <- paste0(\"/lustre/scratch126/casm/team274sb/lr26/scRNA/\", sample_id, \"/raw_feature_bc_matrix/\")\n",
    "\n",
    "  # Read the raw and filtered data for each sample\n",
    "  raw <- Read10X(data.dir = path_raw)  # Raw count matrix (with all barcodes)\n",
    "  filtered <- Read10X(data.dir = path_filt)  # Filtered count matrix (with only barcodes from the filtered data)\n",
    "\n",
    "  # Ensure matching barcodes\n",
    "  filtered_barcodes <- colnames(sobj@assays$RNA@layers$counts)\n",
    "  raw_barcodes <- colnames(raw)\n",
    "\n",
    "  # Check for common barcodes between raw and filtered\n",
    "  common_barcodes <- intersect(filtered_barcodes, raw_barcodes)\n",
    "\n",
    "  # Subset raw data to only include the common barcodes\n",
    "  raw <- raw[, raw_barcodes %in% common_barcodes, drop = FALSE]\n",
    "\n",
    "  # Ensure matching genes (rownames) between raw and Seurat object\n",
    "  raw_genes <- rownames(raw)\n",
    "  seurat_genes <- rownames(sobj@assays$RNA@layers$counts)\n",
    "\n",
    "  # Find common genes\n",
    "  common_genes <- intersect(raw_genes, seurat_genes)\n",
    "\n",
    "  # Subset raw data to include only common genes\n",
    "  raw <- raw[common_genes, , drop = FALSE]\n",
    "  sobj_genes <- sobj@assays$RNA@layers$counts[common_genes, , drop = FALSE]\n",
    "\n",
    "  # Reorder the raw matrix to match the Seurat object genes' order\n",
    "  raw <- raw[seurat_genes, , drop = FALSE]\n",
    "\n",
    "  # Now, proceed with SoupChannel adjustment using both raw and filtered counts\n",
    "  sc = SoupChannel(raw, sobj_genes)  # Use filtered counts from Seurat object and raw data\n",
    "  \n",
    "  # Estimate soup profile\n",
    "  sc = estimateSoup(sc)\n",
    "\n",
    "  # Adjust the counts by removing contamination\n",
    "  out = adjustCounts(sc, roundToInt = TRUE)\n",
    "\n",
    "  # Store original counts as a separate assay if not already stored\n",
    "  if (is.null(sobj[[\"original.counts\"]])) {\n",
    "    sobj[[\"original.counts\"]] <- CreateAssayObject(counts = sobj@assays$RNA@counts)\n",
    "  }\n",
    "\n",
    "  # Add the adjusted counts to a new assay (keeping the raw counts untouched)\n",
    "  sobj[[\"soupx_adjusted\"]] <- CreateAssayObject(counts = out)\n",
    "  \n",
    "  return(sobj)\n",
    "}\n",
    "\n",
    "# Apply the make_soup function to each Seurat object in the data_list (with the corresponding sample_id)\n",
    "data_list <- lapply(1:length(samples), function(i) {\n",
    "  sobj <- data_list[[i]]  # Access the Seurat object\n",
    "  sample_id <- samples[i]  # Get the corresponding sample_id\n",
    "  sobj <- make_soup(sobj, sample_id)  # Apply the function\n",
    "  return(sobj)\n",
    "})\n",
    "\n",
    "\n",
    "# Example of how to check sums and compare counts:\n",
    "sum(data_list[[1]]@assays$original.counts@counts)  # Sum of original counts for the first object\n",
    "sum(data_list[[1]]@assays$RNA@counts) / sum(data_list[[1]]@assays$original.counts@counts)  # Ratio of raw to original counts\n"
   ]
  },
  {
   "cell_type": "code",
   "execution_count": null,
   "id": "542aa0df-7de9-49a4-b652-53c104c24c8f",
   "metadata": {},
   "outputs": [],
   "source": [
    "# Add SampleID to each Seurat object in your list\n",
    "data_list_with_sampleID <- lapply(names(data_list), function(sample_name) {\n",
    "  sobj <- data_list[[sample_name]]\n",
    "  sobj$SampleID <- sample_name  # Add SampleID to metadata\n",
    "  return(sobj)\n",
    "})\n",
    "\n",
    "# Now, merge all Seurat objects into one large Seurat object\n",
    "combined_sobj <- Reduce(function(x, y) merge(x, y, add.cell.ids = c(x$SampleID[1], y$SampleID[1]), \n",
    "                                              project = \"Combined_Sample\"), data_list_with_sampleID)\n",
    "\n",
    "# Check the resulting metadata\n",
    "head(combined_sobj@meta.data)\n",
    "\n",
    "# Optionally, save the combined Seurat object to an RDS file\n",
    "saveRDS(combined_sobj, \"/path/to/save/combined_seurat_object.rds\")\n"
   ]
  }
 ],
 "metadata": {
  "kernelspec": {
   "display_name": "My R",
   "language": "R",
   "name": "my-r"
  },
  "language_info": {
   "codemirror_mode": "r",
   "file_extension": ".r",
   "mimetype": "text/x-r-source",
   "name": "R",
   "pygments_lexer": "r",
   "version": "4.4.2"
  }
 },
 "nbformat": 4,
 "nbformat_minor": 5
}
