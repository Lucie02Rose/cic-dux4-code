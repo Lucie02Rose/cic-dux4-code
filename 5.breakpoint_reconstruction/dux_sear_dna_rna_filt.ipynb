{
 "cells": [
  {
   "cell_type": "code",
   "execution_count": 1,
   "id": "769b250e-9206-47cf-8f30-15398701c028",
   "metadata": {
    "tags": []
   },
   "outputs": [
    {
     "name": "stdout",
     "output_type": "stream",
     "text": [
      "/software/cellgen/team274/lr26/miniforge3/envs/my-python/bin/python\n"
     ]
    }
   ],
   "source": [
    "import sys\n",
    "print(sys.executable)\n",
    "import pandas as pd\n",
    "import pysam"
   ]
  },
  {
   "cell_type": "code",
   "execution_count": 2,
   "id": "ef084bf5-0b54-445c-a02a-3a53fedbe351",
   "metadata": {
    "tags": []
   },
   "outputs": [],
   "source": [
    "base_dir = \"/lustre/scratch126/casm/team274sb/lr26/\""
   ]
  },
  {
   "cell_type": "code",
   "execution_count": 7,
   "id": "2de919a2-7de0-49ff-aa3f-0190e0cbbdf1",
   "metadata": {
    "tags": []
   },
   "outputs": [],
   "source": [
    "colnames = [\"query\", \"read_id\", \"%_identity\", \"len\", \"nt_mismatch\", \"gapopen\", \"q_start\", \"q_end\", \"s_start\", \"s_end\", \"eval\", \"bit_score\"] \n",
    "dux_dna_blood_top2 = pd.read_csv(base_dir + \"dux_search/dux_dnablood_top2.txt\", sep = \"\\t\", names = colnames)\n",
    "dux_dna_mom_top2 = pd.read_csv(base_dir + \"dux_search/dux_dnamom_top2.txt\", sep = \"\\t\", names = colnames)\n",
    "dux_rna_tum_top1 = pd.read_csv(base_dir + \"dux_search/dux_rnatum_top1.txt\", sep = \"\\t\", names = colnames)"
   ]
  },
  {
   "cell_type": "code",
   "execution_count": 15,
   "id": "a1c43b44-9570-4437-ab67-6e83cbe8daf1",
   "metadata": {
    "tags": []
   },
   "outputs": [],
   "source": [
    "read_id = dux_rna_tum_top1[\"read_id\"]\n",
    "with open (base_dir + \"dux_search/dux_rnatum_top1readnames.txt\", \"w\") as out:\n",
    "    for line in read_id:\n",
    "        clean_id = line.split(\"/\")[0]\n",
    "        out.write(f\"{clean_id}\\n\")"
   ]
  },
  {
   "cell_type": "code",
   "execution_count": 13,
   "id": "b8e129f4-4020-4a29-aeed-19a564e9e46f",
   "metadata": {
    "tags": []
   },
   "outputs": [],
   "source": [
    "read_id = dux_dna_blood_top2[\"read_id\"]\n",
    "       \n",
    "with open(base_dir + \"dux_search/dux_dnablood_top2_readnames.txt\", \"w\") as out:\n",
    "    for line in read_id:\n",
    "        clean_id = line.split(\"/\")[0]  # Strip from the first '/' onward\n",
    "        out.write(f\"{clean_id}\\n\")\n"
   ]
  },
  {
   "cell_type": "code",
   "execution_count": 8,
   "id": "9e7da4d7-806c-424e-9b66-234c767c1feb",
   "metadata": {
    "tags": []
   },
   "outputs": [],
   "source": [
    "read_id = dux_dna_mom_top2[\"read_id\"]\n",
    "\n",
    "with open(base_dir + \"dux_search/dux_dnamom_top2_readnames.txt\", \"w\") as out:\n",
    "    for line in read_id:\n",
    "        clean_id = line.split(\"/\")[0]  # Strip from the first '/' onward\n",
    "        out.write(f\"{clean_id}\\n\")\n"
   ]
  },
  {
   "cell_type": "code",
   "execution_count": 17,
   "id": "011df84d-6bc0-492b-a28f-374415c41fc2",
   "metadata": {},
   "outputs": [],
   "source": [
    "import pysam\n",
    "\n",
    "# Paths\n",
    "bam_path = base_dir + \"rna-t2t/our_patient_final_merged.bam\"\n",
    "read_names_path = base_dir + \"dux_search/dux_rnatum_top1readnames.txt\"\n",
    "output_path = base_dir + \"dux_search/dux_rnatum_top1_readlocations.tsv\"\n",
    "\n",
    "# Load read names into a set for fast lookup\n",
    "with open(read_names_path) as f:\n",
    "    target_reads = set(line.strip() for line in f if line.strip())\n",
    "\n",
    "# Open BAM\n",
    "bam = pysam.AlignmentFile(bam_path, \"rb\")\n",
    "\n",
    "# Output file\n",
    "with open(output_path, \"w\") as out:\n",
    "    # Scan chromosome 4\n",
    "    for read in bam.fetch(\"chr4\"):\n",
    "        if read.query_name in target_reads:\n",
    "            out.write(f\"{read.query_name}\\t{read.reference_name}\\t{read.reference_start + 1}\\n\")\n",
    "\n",
    "    # Scan \n",
    "    for read in bam.fetch(\"chr10\"):\n",
    "        if read.query_name in target_reads:\n",
    "            out.write(f\"{read.query_name}\\t{read.reference_name}\\t{read.reference_start + 1}\\n\")\n",
    "\n",
    "\n",
    "bamfile.close()\n"
   ]
  }
 ],
 "metadata": {
  "kernelspec": {
   "display_name": "My Py",
   "language": "python",
   "name": "my-python"
  },
  "language_info": {
   "codemirror_mode": {
    "name": "ipython",
    "version": 3
   },
   "file_extension": ".py",
   "mimetype": "text/x-python",
   "name": "python",
   "nbconvert_exporter": "python",
   "pygments_lexer": "ipython3",
   "version": "3.10.16"
  }
 },
 "nbformat": 4,
 "nbformat_minor": 5
}
