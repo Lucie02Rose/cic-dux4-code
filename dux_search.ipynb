{
 "cells": [
  {
   "cell_type": "code",
   "execution_count": 1,
   "id": "602ff9ee-635a-4950-b18c-7e18446e9762",
   "metadata": {
    "tags": []
   },
   "outputs": [],
   "source": [
    "import pysam\n",
    "\n",
    "# Extract rolling windows from input sequence (using pysam)\n",
    "def extract_rolling_windows(input_fasta, window_size=20):\n",
    "    samfile = pysam.FastaFile(input_fasta)\n",
    "    windows = []\n",
    "    \n",
    "    # Iterate over all sequences in the FASTA file\n",
    "    for seq_name in samfile.references:\n",
    "        sequence = samfile.fetch(seq_name)\n",
    "        \n",
    "        # Generate rolling windows of size `window_size`\n",
    "        for i in range(len(sequence) - window_size + 1):\n",
    "            windows.append(sequence[i:i + window_size])\n",
    "    \n",
    "    samfile.close()\n",
    "    return windows\n",
    "\n",
    "# Save rolling windows to a FASTA file\n",
    "def save_to_fasta(windows, output_fasta):\n",
    "    with open(output_fasta, 'w') as f:\n",
    "        # Write each window to the FASTA file with a header like >seq_1, >seq_2, etc.\n",
    "        for i, seq in enumerate(windows):\n",
    "            f.write(f\">seq_{i+1}\\n{seq}\\n\")"
   ]
  },
  {
   "cell_type": "code",
   "execution_count": 3,
   "id": "c894c0c5-4ffe-4bae-bf0f-a5e95051f5dd",
   "metadata": {
    "tags": []
   },
   "outputs": [
    {
     "name": "stdout",
     "output_type": "stream",
     "text": [
      "✅ Saved 6222 windows to /lustre/scratch126/casm/team274sb/lr26/dux_search/dux4_intron2_window50.fasta\n",
      "✅ Saved 405 windows to /lustre/scratch126/casm/team274sb/lr26/dux_search/rpl23_window50.fasta\n",
      "✅ Saved 6172 windows to /lustre/scratch126/casm/team274sb/lr26/dux_search/dux4_window100.fasta\n",
      "✅ Saved 355 windows to /lustre/scratch126/casm/team274sb/lr26/dux_search/rpl23_window100.fasta\n"
     ]
    }
   ],
   "source": [
    "# dux4 50\n",
    "if __name__ == \"__main__\":\n",
    "    input_fasta = \"/lustre/scratch126/casm/team274sb/lr26/dux_search/dux4_intron2.fasta\"\n",
    "    output_fasta = \"/lustre/scratch126/casm/team274sb/lr26/dux_search/dux4_intron2_window50.fasta\"\n",
    "    \n",
    "    # Extract rolling windows and save them\n",
    "    windows = extract_rolling_windows(input_fasta, window_size=50)\n",
    "    save_to_fasta(windows, output_fasta)\n",
    "    \n",
    "    print(f\"✅ Saved {len(windows)} windows to {output_fasta}\")\n",
    "    \n",
    "# rpl 50\n",
    "if __name__ == \"__main__\":\n",
    "    input_fasta = \"/lustre/scratch126/casm/team274sb/lr26/dux_search/rpl23.fasta\"\n",
    "    output_fasta = \"/lustre/scratch126/casm/team274sb/lr26/dux_search/rpl23_window50.fasta\"\n",
    "    \n",
    "    # Extract rolling windows and save them\n",
    "    windows = extract_rolling_windows(input_fasta, window_size=50)\n",
    "    save_to_fasta(windows, output_fasta)\n",
    "    \n",
    "    print(f\"✅ Saved {len(windows)} windows to {output_fasta}\")\n",
    "    \n",
    "# Example usage\n",
    "if __name__ == \"__main__\":\n",
    "    input_fasta = \"/lustre/scratch126/casm/team274sb/lr26/dux_search/dux4_intron2.fasta\"\n",
    "    output_fasta = \"/lustre/scratch126/casm/team274sb/lr26/dux_search/dux4_window100.fasta\"\n",
    "    \n",
    "    # Extract rolling windows and save them\n",
    "    windows = extract_rolling_windows(input_fasta, window_size=100)\n",
    "    save_to_fasta(windows, output_fasta)\n",
    "    \n",
    "    print(f\"✅ Saved {len(windows)} windows to {output_fasta}\")\n",
    "    \n",
    "# Example usage\n",
    "if __name__ == \"__main__\":\n",
    "    input_fasta = \"/lustre/scratch126/casm/team274sb/lr26/dux_search/rpl23.fasta\"\n",
    "    output_fasta = \"/lustre/scratch126/casm/team274sb/lr26/dux_search/rpl23_window100.fasta\"\n",
    "    \n",
    "    # Extract rolling windows and save them\n",
    "    windows = extract_rolling_windows(input_fasta, window_size=100)\n",
    "    save_to_fasta(windows, output_fasta)\n",
    "    \n",
    "    print(f\"✅ Saved {len(windows)} windows to {output_fasta}\")\n",
    "    "
   ]
  },
  {
   "cell_type": "code",
   "execution_count": 1,
   "id": "e33156f8-9a2d-4c15-8bc1-7696aa5da9db",
   "metadata": {
    "tags": []
   },
   "outputs": [
    {
     "ename": "ModuleNotFoundError",
     "evalue": "No module named 'Bio'",
     "output_type": "error",
     "traceback": [
      "\u001b[0;31m---------------------------------------------------------------------------\u001b[0m",
      "\u001b[0;31mModuleNotFoundError\u001b[0m                       Traceback (most recent call last)",
      "Cell \u001b[0;32mIn[1], line 1\u001b[0m\n\u001b[0;32m----> 1\u001b[0m \u001b[38;5;28;01mfrom\u001b[39;00m \u001b[38;5;21;01mBio\u001b[39;00m \u001b[38;5;28;01mimport\u001b[39;00m SeqIO\n\u001b[1;32m      2\u001b[0m \u001b[38;5;28;01mfrom\u001b[39;00m \u001b[38;5;21;01mBio\u001b[39;00m\u001b[38;5;21;01m.\u001b[39;00m\u001b[38;5;21;01mSeqRecord\u001b[39;00m \u001b[38;5;28;01mimport\u001b[39;00m SeqRecord\n\u001b[1;32m      4\u001b[0m \u001b[38;5;28;01mdef\u001b[39;00m \u001b[38;5;21msliding_windows_50bp_offset1\u001b[39m(input_fasta, output_fasta):\n",
      "\u001b[0;31mModuleNotFoundError\u001b[0m: No module named 'Bio'"
     ]
    }
   ],
   "source": [
    "from Bio import SeqIO\n",
    "from Bio.SeqRecord import SeqRecord\n",
    "\n",
    "def extract_sliding_windows(input_fasta, output_fasta, window_size=50):\n",
    "    \"\"\"\n",
    "    Extract sliding windows from unindexed FASTA file using Biopython.\n",
    "    \"\"\"\n",
    "    records = []\n",
    "    for record in SeqIO.parse(input_fasta, \"fasta\"):\n",
    "        seq = str(record.seq)\n",
    "        for i in range(len(seq) - window_size + 1):\n",
    "            window_seq = seq[i:i + window_size]\n",
    "            window_id = f\"{record.id}_{i+1}_{i+window_size}\"\n",
    "            records.append(SeqRecord(seq=window_seq, id=window_id, description=\"\"))\n",
    "    SeqIO.write(records, output_fasta, \"fasta\")\n",
    "    print(f\"✅ Wrote {len(records)} windows to {output_fasta}\")\n",
    "\n",
    "# === Example usage ===\n",
    "if __name__ == \"__main__\":\n",
    "    extract_sliding_windows(\"input.fasta\", \"windows_20bp.fasta\", window_size=50)"
   ]
  }
 ],
 "metadata": {
  "kernelspec": {
   "display_name": "My Py",
   "language": "python",
   "name": "my-python"
  },
  "language_info": {
   "codemirror_mode": {
    "name": "ipython",
    "version": 3
   },
   "file_extension": ".py",
   "mimetype": "text/x-python",
   "name": "python",
   "nbconvert_exporter": "python",
   "pygments_lexer": "ipython3",
   "version": "3.10.16"
  }
 },
 "nbformat": 4,
 "nbformat_minor": 5
}
