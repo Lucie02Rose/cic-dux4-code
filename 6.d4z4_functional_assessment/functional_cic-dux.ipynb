{
 "cells": [
  {
   "cell_type": "code",
   "execution_count": 2,
   "id": "3788e009-b449-40f5-86c0-ca65f787b591",
   "metadata": {
    "tags": []
   },
   "outputs": [],
   "source": [
    "\n",
    "#output_coords = \"/lustre/scratch126/cellgen/behjati/lr26/T2T/mapped_d4z4_coords.tsv\"\n",
    "\n",
    "import pysam\n",
    "\n",
    "# Open BAM file\n",
    "bam = pysam.AlignmentFile(\"/nfs/team274/lr26/PacBio-mom/PacBio-mom.bp.p_ctg_vs_t2t.bam\", \"rb\")\n",
    "\n",
    "# Build mapping: contig name -> (ref name, ref start, ref end, strand)\n",
    "contig_to_ref = {}\n",
    "\n",
    "for aln in bam.fetch(until_eof=True):\n",
    "    if aln.is_unmapped:\n",
    "        continue\n",
    "    contig = aln.query_name\n",
    "    ref = bam.get_reference_name(aln.reference_id)\n",
    "    strand = '-' if aln.is_reverse else '+'\n",
    "    ref_start = aln.reference_start\n",
    "    ref_end = aln.reference_end\n",
    "    contig_to_ref[contig] = (ref, ref_start, ref_end, strand)\n",
    "\n",
    "bam.close()\n",
    "\n",
    "# Read D4Z4 regions (e.g. ptg000123l:100-1375)\n",
    "with open(\"/lustre/scratch126/cellgen/behjati/lr26/T2T/d4z4_regions_mom.txt\") as f_in, open(\"/lustre/scratch126/cellgen/behjati/lr26/T2T/d4z4_regions_mapped_to_T2T.tsv\", \"w\") as f_out:\n",
    "    for line in f_in:\n",
    "        line = line.strip()\n",
    "        contig_info = line.split(\":\")\n",
    "        contig = contig_info[0]\n",
    "        start, end = map(int, contig_info[1].split(\"-\"))\n",
    "\n",
    "        if contig not in contig_to_ref:\n",
    "            print(f\"Warning: {contig} not found in BAM alignments.\")\n",
    "            continue\n",
    "\n",
    "        ref, ref_start, ref_end, strand = contig_to_ref[contig]\n",
    "\n",
    "        # Offset of D4Z4 region within contig alignment\n",
    "        offset = start  # assuming alignment starts at contig pos 0\n",
    "        d4z4_len = end - start\n",
    "        ref_d4z4_start = ref_start + offset if strand == '+' else ref_end - offset - d4z4_len\n",
    "        ref_d4z4_end = ref_d4z4_start + d4z4_len\n",
    "\n",
    "        f_out.write(f\"{contig}:{start}-{end}\\t{ref}:{ref_d4z4_start+1}-{ref_d4z4_end}\\t{strand}\\n\")  # 1-based BED\n"
   ]
  },
  {
   "cell_type": "code",
   "execution_count": 16,
   "id": "02cf4cc1-d292-4060-ac35-3d28312897f6",
   "metadata": {
    "tags": []
   },
   "outputs": [
    {
     "name": "stdout",
     "output_type": "stream",
     "text": [
      ">chr1:128421745-128422968_rc\n",
      "\n",
      "ATGGCCCTCCTGAAACCTTCGGACTgcaccctccccacggaagcccggagactgggacggtgaaggaaactcgtttggaccccgagccaaagcgaggccctgcgagcctgctttgagcggtacccatacccagacatcaccacccgagaacagctcgcccaggccatcggcattccagagcccatggtccagatttggtatcagaatgggaggtcacaccagctgaggcagcaccggcgggaatctcggccctggcctgggagatgcggcctgcaagaacgcaggtgaaagcagtccgccgtcactggatcccagaccgccctgctcctccgagcctttgagaaagatcgctttccaggcatcgctgccagggaagagctggccagagagactgccttcccgagtacaggattcagatctcgtttcagaatcgaagggccaggccccatcgcaggcaggcggcctgtgcaacacggcccctggcaggtgtcaccctgctaacacatgtgtcgcctttgcccacgctggcacgtggggaacggggcttccgcaccccacgtgccctgcgcacctggtgctctcccacaggaggttttcgtgagccagggagcaagggccatccccgtgctccagcccagcaaggccgtgccggcagagtgtatctcccaaccggatccggcacgcgggaatattccctatgctgcccctgctcctccggaaggggcgttctcccaccctcaggctcctcggtggcctccgcagccgggcaaaacccggaagaaccaggacctgcagggcgatgtcctgccgggcccttgcgcggtgggacagactgggcccgctcaagtgcttgcgccacccgcttcccaggggaatccgtggttgggctggggccggggtccccaggtcgacggggtggcgtgggaaccccaagccagggcagctccaccttgccagcccgcgcccccggaggtctccgcgcagcaggggcagatgcaaggcatcccggcgccctcccaggagctcaggagccagggcgctcctctgcactcccctccagcttgctgctggatgagctcctggcgagggcggagtttctgcagcaggagcaacctttcctagaaagggaggccccgggggagctggaggccttggaagaggccgtctcactggaaggacccctcagcgaggaagaattccgggctctgctggaggagctttagg\n",
      "\n",
      ">chr1:128421745-128422968_rc_rc\n",
      "cctaaagctcctccagcagagcccggaattcttcctcgctgaggggtccttccagtgagacggcctcttccaaggcctccagctcccccggggcctccctttctaggaaaggttgctcctgctgcagaaactccgccctcgccaggagctcatccagcagcaagctggaggggagtgcagaggagcgccctggctcctgagctcctgggagggcgccgggatgccttgcatctgcccctgctgcgcggagacctccgggggcgcgggctggcaaggtggagctgccctggcttggggttcccacgccaccccgtcgacctggggaccccggccccagcccaaccacggattcccctgggaagcgggtggcgcaagcacttgagcgggcccagtctgtcccaccgcgcaagggcccggcaggacatcgccctgcaggtcctggttcttccgggttttgcccggctgcggaggccaccgaggagcctgagggtgggagaacgccccttccggaggagcaggggcagcatagggaatattcccgcgtgccggatccggttgggagatacactctgccggcacggccttgctgggctggagcacggggatggcccttgctccctggctcacgaaaacctcctgtgggagagcaccaggtgcgcagggcacgtggggtgcggaagccccgttccccacgtgccagcgtgggcaaaggcgacacatgtgttagcagggtgacacctgccaggggccgtgttgcacaggccgcctgcctgcgatggggcctggcccttcgattctgaaacgagatctgaatcctgtactcgggaaggcagtctctctggccagctcttccctggcagcgatgcctggaaagcgatctttctcaaaggctcggaggagcagggcggtctgggatccagtgacggcggactgctttcacctgcgttcttgcaggccgcatctcccaggccagggccgagattcccgccggtgctgcctcagctggtgtgacctcccattctgataccaaatctggaccatgggctctggaatgccgatggcctgggcgagctgttctcgggtggtgatgtctgggtatgggtaccgctcaaagcaggctcgcagggcctcgctttggctcggggtccaaacgagtttccttcaccgtcccagtctccgggcttccgtggggagggtgcAGTCCGAAGGTTTCAGGAGGGCCAT\n",
      "ID: <unknown id>\n",
      "Name: <unknown name>\n",
      "Description: <unknown description>\n",
      "Number of features: 0\n",
      "/molecule_type=protein\n",
      "Seq('MALLKPSDCTLPTEARRLGR*RKLVWTPSQSEALRACFERYPYPDITTREQLAQ...SFR')\n"
     ]
    }
   ],
   "source": [
    "base_dir = \"/lustre/scratch126/cellgen/behjati/lr26/blast-search/\"\n",
    "file1 = base_dir + \"d4z4c-chr1_rc.fasta\"\n",
    "from Bio import SeqIO\n",
    "with open (file1) as file:\n",
    "    for line in file:\n",
    "        print(line)\n",
    "record = next(SeqIO.parse(file1, \"fasta\"))\n",
    "print(f\">{record.id}_rc\\n{record.seq.reverse_complement()}\")\n",
    "# Translate the sequence\n",
    "prot = record.translate(to_stop=False)\n",
    "print(prot)"
   ]
  },
  {
   "cell_type": "code",
   "execution_count": 8,
   "id": "7110447f-66da-4b5e-b068-99da97b56606",
   "metadata": {
    "tags": []
   },
   "outputs": [
    {
     "name": "stdout",
     "output_type": "stream",
     "text": [
      ">Extract_from_913_to_end_chr1:128421745-128422968_rc\n",
      "gggtggcgtgggaaccccaagccagggcagctccaccttgccagcccgcgcccccggaggtctccgcgcagcaggggcagatgcaaggcatcccggcgccctcccaggagctcaggagccagggcgctcctctgcactcccctccagcttgctgctggatgagctcctggcgagggcggagtttctgcagcaggagcaacctttcctagaaagggaggccccgggggagctggaggccttggaagaggccgtctcactggaaggacccctcagcgaggaagaattccgggctctgctggaggagctttagg\n",
      "Length of subsequence from position 913 onwards: 311\n"
     ]
    }
   ],
   "source": [
    "from Bio import SeqIO\n",
    "\n",
    "fasta_file = base_dir + \"d4z4c-chr1_rc.fasta\"  # replace with your filename\n",
    "\n",
    "# Parse the first (and presumably only) record in the FASTA file\n",
    "record = next(SeqIO.parse(fasta_file, \"fasta\"))\n",
    "seq = record.seq\n",
    "\n",
    "# Extract from index 913 (0-based) to end\n",
    "subseq = seq[913:]\n",
    "\n",
    "print(f\">Extract_from_913_to_end_{record.id}\")\n",
    "print(subseq)\n",
    "print(f\"Length of subsequence from position 913 onwards: {len(subseq)}\")\n"
   ]
  },
  {
   "cell_type": "code",
   "execution_count": 3,
   "id": "56d82611-6ed5-4582-bed8-2efc819c906f",
   "metadata": {
    "tags": []
   },
   "outputs": [
    {
     "name": "stdout",
     "output_type": "stream",
     "text": [
      "Protein sequence:\n",
      "PGGVGTPSQGSSTLPARAPGGLRAAGADARHPGALPGAQEPGRSSALPSSLLLDELLARAEFLQQEQPFLEREAPGELEALEEAVSLEGPLSEEEFRALLEEL*\n"
     ]
    }
   ],
   "source": [
    "from Bio.Seq import Seq\n",
    "\n",
    "# Your DNA sequence\n",
    "dna_seq = Seq(\"ccgggtggcgtgggaaccccaagccagggcagctccaccttgccagcccgcgcccccggaggtctccgcgcagcaggggcagatgcaaggcatcccggcgccctcccaggagctcaggagccagggcgctcctctgcactcccctccagcttgctgctggatgagctcctggcgagggcggagtttctgcagcaggagcaacctttcctagaaagggaggccccgggggagctggaggccttggaagaggccgtctcactggaaggacccctcagcgaggaagaattccgggctctgctggaggagctttagg\")\n",
    "\n",
    "# Translate the sequence\n",
    "protein_seq = dna_seq.translate(to_stop=False)\n",
    "\n",
    "print(\"Protein sequence:\")\n",
    "print(protein_seq)\n"
   ]
  }
 ],
 "metadata": {
  "kernelspec": {
   "display_name": "My Py",
   "language": "python",
   "name": "my-python"
  },
  "language_info": {
   "codemirror_mode": {
    "name": "ipython",
    "version": 3
   },
   "file_extension": ".py",
   "mimetype": "text/x-python",
   "name": "python",
   "nbconvert_exporter": "python",
   "pygments_lexer": "ipython3",
   "version": "3.10.16"
  }
 },
 "nbformat": 4,
 "nbformat_minor": 5
}
